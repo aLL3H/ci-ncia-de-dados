{
  "nbformat": 4,
  "nbformat_minor": 0,
  "metadata": {
    "colab": {
      "provenance": [],
      "collapsed_sections": []
    },
    "kernelspec": {
      "name": "python3",
      "display_name": "Python 3"
    },
    "language_info": {
      "name": "python"
    }
  },
  "cells": [
    {
      "cell_type": "markdown",
      "source": [
        "# **Estrutura de Dados**\n"
      ],
      "metadata": {
        "id": "lEyHZisU9SEs"
      }
    },
    {
      "cell_type": "markdown",
      "source": [
        "### **Listas**"
      ],
      "metadata": {
        "id": "wIUAXUW_9cVk"
      }
    },
    {
      "cell_type": "code",
      "source": [
        "#Criando uma lista chamada animais"
      ],
      "metadata": {
        "id": "5o7ZbVI89ep8"
      },
      "execution_count": 1,
      "outputs": []
    },
    {
      "cell_type": "code",
      "source": [
        "animais = [1,2,3]\n",
        "animais"
      ],
      "metadata": {
        "colab": {
          "base_uri": "https://localhost:8080/"
        },
        "id": "ri-pK6dv9n46",
        "outputId": "88d48853-8916-48b2-8f3d-1aa049916e20"
      },
      "execution_count": 2,
      "outputs": [
        {
          "output_type": "execute_result",
          "data": {
            "text/plain": [
              "[1, 2, 3]"
            ]
          },
          "metadata": {},
          "execution_count": 2
        }
      ]
    },
    {
      "cell_type": "code",
      "source": [
        "animais = [\"cachorro\", \"gato\", 1245, 6.5]\n",
        "animais"
      ],
      "metadata": {
        "colab": {
          "base_uri": "https://localhost:8080/"
        },
        "id": "GGLsYfJx9rb3",
        "outputId": "fc74002c-db30-4736-97c9-fce9e9308c21"
      },
      "execution_count": 3,
      "outputs": [
        {
          "output_type": "execute_result",
          "data": {
            "text/plain": [
              "['cachorro', 'gato', 1245, 6.5]"
            ]
          },
          "metadata": {},
          "execution_count": 3
        }
      ]
    },
    {
      "cell_type": "code",
      "source": [
        "#Imprimindo o primeiro elemento da lista\n",
        "animais[0]"
      ],
      "metadata": {
        "colab": {
          "base_uri": "https://localhost:8080/",
          "height": 35
        },
        "id": "4WpOPeAN9zxd",
        "outputId": "0fd0b9de-b6a9-455e-e3a6-1b5c343e8d09"
      },
      "execution_count": 4,
      "outputs": [
        {
          "output_type": "execute_result",
          "data": {
            "text/plain": [
              "'cachorro'"
            ],
            "application/vnd.google.colaboratory.intrinsic+json": {
              "type": "string"
            }
          },
          "metadata": {},
          "execution_count": 4
        }
      ]
    },
    {
      "cell_type": "code",
      "source": [
        "#Imprimindo o elemento 4 da lista\n",
        "animais[3]"
      ],
      "metadata": {
        "colab": {
          "base_uri": "https://localhost:8080/"
        },
        "id": "4XOGrplG95dS",
        "outputId": "43335edf-e019-4f48-d99d-642cb9248ab6"
      },
      "execution_count": 5,
      "outputs": [
        {
          "output_type": "execute_result",
          "data": {
            "text/plain": [
              "6.5"
            ]
          },
          "metadata": {},
          "execution_count": 5
        }
      ]
    },
    {
      "cell_type": "code",
      "source": [
        "#Substituindo o primeiro elemento da lista\n",
        "animais[0] = \"papagaio\""
      ],
      "metadata": {
        "id": "6P7phcQj-Cgw"
      },
      "execution_count": 6,
      "outputs": []
    },
    {
      "cell_type": "code",
      "source": [
        "animais"
      ],
      "metadata": {
        "colab": {
          "base_uri": "https://localhost:8080/"
        },
        "id": "6ewdA1SQ-JhT",
        "outputId": "d2cb375d-95cd-4653-87bf-e6281b500c07"
      },
      "execution_count": 7,
      "outputs": [
        {
          "output_type": "execute_result",
          "data": {
            "text/plain": [
              "['papagaio', 'gato', 1245, 6.5]"
            ]
          },
          "metadata": {},
          "execution_count": 7
        }
      ]
    },
    {
      "cell_type": "code",
      "source": [
        "#Removendo gato da lista\n",
        "animais.remove(\"gato\")"
      ],
      "metadata": {
        "id": "9F2gtYCg-LY8"
      },
      "execution_count": 8,
      "outputs": []
    },
    {
      "cell_type": "code",
      "source": [
        "animais"
      ],
      "metadata": {
        "colab": {
          "base_uri": "https://localhost:8080/"
        },
        "id": "e7CG4T_I-SQF",
        "outputId": "560f1453-996e-45fb-fd79-d8dfd233c774"
      },
      "execution_count": 9,
      "outputs": [
        {
          "output_type": "execute_result",
          "data": {
            "text/plain": [
              "['papagaio', 1245, 6.5]"
            ]
          },
          "metadata": {},
          "execution_count": 9
        }
      ]
    },
    {
      "cell_type": "code",
      "source": [
        "len(animais)"
      ],
      "metadata": {
        "colab": {
          "base_uri": "https://localhost:8080/"
        },
        "id": "VWuBhVlH-VN9",
        "outputId": "a4d14587-ec95-441c-98a2-34d9585967a4"
      },
      "execution_count": 10,
      "outputs": [
        {
          "output_type": "execute_result",
          "data": {
            "text/plain": [
              "3"
            ]
          },
          "metadata": {},
          "execution_count": 10
        }
      ]
    },
    {
      "cell_type": "code",
      "source": [
        "\"gato\" in animais"
      ],
      "metadata": {
        "colab": {
          "base_uri": "https://localhost:8080/"
        },
        "id": "gVgDo3_4-XGl",
        "outputId": "68774e36-e96c-41a1-b7ff-7f66d103fc7e"
      },
      "execution_count": 11,
      "outputs": [
        {
          "output_type": "execute_result",
          "data": {
            "text/plain": [
              "False"
            ]
          },
          "metadata": {},
          "execution_count": 11
        }
      ]
    },
    {
      "cell_type": "code",
      "source": [
        "lista = [500, 30, 300, 80, 10]"
      ],
      "metadata": {
        "id": "99Zo-Rjj-Z9y"
      },
      "execution_count": 12,
      "outputs": []
    },
    {
      "cell_type": "code",
      "source": [
        "max(lista)"
      ],
      "metadata": {
        "colab": {
          "base_uri": "https://localhost:8080/"
        },
        "id": "_8WZh-yE-glr",
        "outputId": "5fdc2566-9979-4335-c5b3-49c82dd9ebd5"
      },
      "execution_count": 13,
      "outputs": [
        {
          "output_type": "execute_result",
          "data": {
            "text/plain": [
              "500"
            ]
          },
          "metadata": {},
          "execution_count": 13
        }
      ]
    },
    {
      "cell_type": "code",
      "source": [
        "min(lista)"
      ],
      "metadata": {
        "colab": {
          "base_uri": "https://localhost:8080/"
        },
        "id": "Qa1P_2Bm-ldb",
        "outputId": "8d83ad5d-4e21-4eb3-f308-283ab9957b52"
      },
      "execution_count": 14,
      "outputs": [
        {
          "output_type": "execute_result",
          "data": {
            "text/plain": [
              "10"
            ]
          },
          "metadata": {},
          "execution_count": 14
        }
      ]
    },
    {
      "cell_type": "code",
      "source": [
        "animais.append([\"leão\", \"cachorro\"])"
      ],
      "metadata": {
        "id": "3VBEBylD-my5"
      },
      "execution_count": 22,
      "outputs": []
    },
    {
      "cell_type": "code",
      "source": [
        "animais"
      ],
      "metadata": {
        "colab": {
          "base_uri": "https://localhost:8080/"
        },
        "id": "tAVVlbH_-pgy",
        "outputId": "befa2205-3e22-4685-92c8-4b8202a4a1e0"
      },
      "execution_count": 23,
      "outputs": [
        {
          "output_type": "execute_result",
          "data": {
            "text/plain": [
              "['papagaio', 1245, 6.5, 'leão', 'cobra', 6, 'leão', ['leão', 'cachorro']]"
            ]
          },
          "metadata": {},
          "execution_count": 23
        }
      ]
    },
    {
      "cell_type": "code",
      "source": [
        "animais.extend([\"cobra\", 6])"
      ],
      "metadata": {
        "id": "nkKiIVl1-q8E"
      },
      "execution_count": 25,
      "outputs": []
    },
    {
      "cell_type": "code",
      "source": [
        "animais.count(\"cachorro\")"
      ],
      "metadata": {
        "colab": {
          "base_uri": "https://localhost:8080/"
        },
        "id": "QXXUvisw-3ZU",
        "outputId": "29b65645-9503-4ef8-82f1-cd977ee1ddbd"
      },
      "execution_count": 26,
      "outputs": [
        {
          "output_type": "execute_result",
          "data": {
            "text/plain": [
              "0"
            ]
          },
          "metadata": {},
          "execution_count": 26
        }
      ]
    },
    {
      "cell_type": "code",
      "source": [
        "lista.sort()"
      ],
      "metadata": {
        "id": "Ic4YKROp-6J6"
      },
      "execution_count": 28,
      "outputs": []
    },
    {
      "cell_type": "code",
      "source": [
        "lista"
      ],
      "metadata": {
        "colab": {
          "base_uri": "https://localhost:8080/"
        },
        "id": "LyjPeLLy_g7T",
        "outputId": "05b47f41-af85-4f12-953d-01ebfb4e2825"
      },
      "execution_count": 29,
      "outputs": [
        {
          "output_type": "execute_result",
          "data": {
            "text/plain": [
              "[10, 30, 80, 300, 500]"
            ]
          },
          "metadata": {},
          "execution_count": 29
        }
      ]
    },
    {
      "cell_type": "markdown",
      "source": [
        "### **Tuplas**"
      ],
      "metadata": {
        "id": "YnQauKCk_nPc"
      }
    },
    {
      "cell_type": "code",
      "source": [
        "#As tuplas usam parênteses como sintaxe\n",
        "tp = (\"Banana\", \"Maçã\", 10, 50)"
      ],
      "metadata": {
        "id": "0S5_zl4H_rSG"
      },
      "execution_count": 30,
      "outputs": []
    },
    {
      "cell_type": "code",
      "source": [
        "#Retornando o primeiro elemento\n",
        "tp[0]"
      ],
      "metadata": {
        "colab": {
          "base_uri": "https://localhost:8080/",
          "height": 35
        },
        "id": "DD87Xo37_0ak",
        "outputId": "fa64c64f-07fb-4cc4-95bd-ff5243620010"
      },
      "execution_count": 31,
      "outputs": [
        {
          "output_type": "execute_result",
          "data": {
            "text/plain": [
              "'Banana'"
            ],
            "application/vnd.google.colaboratory.intrinsic+json": {
              "type": "string"
            }
          },
          "metadata": {},
          "execution_count": 31
        }
      ]
    },
    {
      "cell_type": "code",
      "source": [
        "#Diferentes das listas as tuplas são imutáveis, o que quer dizer que não podemos alterar os seus elementos\n",
        "tp[0] = \"Laranja\""
      ],
      "metadata": {
        "id": "kweUbZeJ_45X"
      },
      "execution_count": 35,
      "outputs": []
    },
    {
      "cell_type": "code",
      "source": [
        "tp.count(\"Maçã\")"
      ],
      "metadata": {
        "colab": {
          "base_uri": "https://localhost:8080/"
        },
        "id": "Pg1Ah16yAHoL",
        "outputId": "dcf30106-fa11-428e-d9ab-46997765516f"
      },
      "execution_count": 33,
      "outputs": [
        {
          "output_type": "execute_result",
          "data": {
            "text/plain": [
              "1"
            ]
          },
          "metadata": {},
          "execution_count": 33
        }
      ]
    },
    {
      "cell_type": "code",
      "source": [
        "tp[0:2]"
      ],
      "metadata": {
        "colab": {
          "base_uri": "https://localhost:8080/"
        },
        "id": "JsnSIippARqR",
        "outputId": "26d4d6f0-95ce-4c1c-df56-3b406df9cd5c"
      },
      "execution_count": 34,
      "outputs": [
        {
          "output_type": "execute_result",
          "data": {
            "text/plain": [
              "('Banana', 'Maçã')"
            ]
          },
          "metadata": {},
          "execution_count": 34
        }
      ]
    },
    {
      "cell_type": "markdown",
      "source": [
        "### **Dicionários**"
      ],
      "metadata": {
        "id": "YWSxwM00AbBD"
      }
    },
    {
      "cell_type": "code",
      "source": [
        "#Para criar dicionários utilizamos as {}\n",
        "dc = {\"Maçã\":20, \"Banana\":10, \"Laranja\":15, \"Uva\":5} #Dicionários utilizam o conceito de chave e valor"
      ],
      "metadata": {
        "id": "0EXrCUgjAdze"
      },
      "execution_count": 36,
      "outputs": []
    },
    {
      "cell_type": "code",
      "source": [
        "dc"
      ],
      "metadata": {
        "colab": {
          "base_uri": "https://localhost:8080/"
        },
        "id": "Ee4mbalQAyS0",
        "outputId": "3b2bb85e-a8a9-46e1-d0a0-c4007a6abc8a"
      },
      "execution_count": 38,
      "outputs": [
        {
          "output_type": "execute_result",
          "data": {
            "text/plain": [
              "{'Maçã': 20, 'Banana': 10, 'Laranja': 15, 'Uva': 5}"
            ]
          },
          "metadata": {},
          "execution_count": 38
        }
      ]
    },
    {
      "cell_type": "code",
      "source": [
        "#Acessando o valor de um dicionário através da chave\n",
        "dc[\"Maçã\"]"
      ],
      "metadata": {
        "colab": {
          "base_uri": "https://localhost:8080/"
        },
        "id": "HBxaNDW-A2Nw",
        "outputId": "f6d25d00-6e5f-4d40-aec2-661fde431652"
      },
      "execution_count": 39,
      "outputs": [
        {
          "output_type": "execute_result",
          "data": {
            "text/plain": [
              "20"
            ]
          },
          "metadata": {},
          "execution_count": 39
        }
      ]
    },
    {
      "cell_type": "code",
      "source": [
        "#Atualizando o valor da Maçã\n",
        "dc[\"Maçã\"] = 25\n",
        "dc"
      ],
      "metadata": {
        "colab": {
          "base_uri": "https://localhost:8080/"
        },
        "id": "1UHwsqS0A8yD",
        "outputId": "80f2209a-40b9-45a8-fe34-c8e13d9a9cbf"
      },
      "execution_count": 40,
      "outputs": [
        {
          "output_type": "execute_result",
          "data": {
            "text/plain": [
              "{'Maçã': 25, 'Banana': 10, 'Laranja': 15, 'Uva': 5}"
            ]
          },
          "metadata": {},
          "execution_count": 40
        }
      ]
    },
    {
      "cell_type": "code",
      "source": [
        "#Retornando todas as chaves do dicionário\n",
        "dc.keys()"
      ],
      "metadata": {
        "colab": {
          "base_uri": "https://localhost:8080/"
        },
        "id": "PMX18dUQBPsy",
        "outputId": "107eb933-d5a0-4e8d-815d-65fa4f1a67e5"
      },
      "execution_count": 41,
      "outputs": [
        {
          "output_type": "execute_result",
          "data": {
            "text/plain": [
              "dict_keys(['Maçã', 'Banana', 'Laranja', 'Uva'])"
            ]
          },
          "metadata": {},
          "execution_count": 41
        }
      ]
    },
    {
      "cell_type": "code",
      "source": [
        "#Retornando os valores do dicionário]\n",
        "dc.values()"
      ],
      "metadata": {
        "colab": {
          "base_uri": "https://localhost:8080/"
        },
        "id": "ydx1OR_6BRv9",
        "outputId": "e2dd2b54-1baf-4cc3-e64f-3733738ac71c"
      },
      "execution_count": 42,
      "outputs": [
        {
          "output_type": "execute_result",
          "data": {
            "text/plain": [
              "dict_values([25, 10, 15, 5])"
            ]
          },
          "metadata": {},
          "execution_count": 42
        }
      ]
    },
    {
      "cell_type": "code",
      "source": [
        "#Verificando se já existe uma chave no dicionário e caso não exista inserir\n",
        "dc.setdefault(\"Limão\", 22)"
      ],
      "metadata": {
        "colab": {
          "base_uri": "https://localhost:8080/"
        },
        "id": "c0Q4NiI0BdrD",
        "outputId": "2a890747-4e6c-439c-9e1a-d95ff3679441"
      },
      "execution_count": 43,
      "outputs": [
        {
          "output_type": "execute_result",
          "data": {
            "text/plain": [
              "22"
            ]
          },
          "metadata": {},
          "execution_count": 43
        }
      ]
    },
    {
      "cell_type": "code",
      "source": [
        "dc"
      ],
      "metadata": {
        "colab": {
          "base_uri": "https://localhost:8080/"
        },
        "id": "6n14R3HVBoe9",
        "outputId": "c932e708-8329-4fa0-b5e5-3741a5427f5e"
      },
      "execution_count": 44,
      "outputs": [
        {
          "output_type": "execute_result",
          "data": {
            "text/plain": [
              "{'Maçã': 25, 'Banana': 10, 'Laranja': 15, 'Uva': 5, 'Limão': 22}"
            ]
          },
          "metadata": {},
          "execution_count": 44
        }
      ]
    },
    {
      "cell_type": "code",
      "source": [],
      "metadata": {
        "id": "kYp2WGzlBpT-"
      },
      "execution_count": null,
      "outputs": []
    }
  ]
}